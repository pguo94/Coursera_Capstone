{
    "nbformat_minor": 1, 
    "cells": [
        {
            "source": "# Peter's Clustering Cities in Toronto ", 
            "cell_type": "markdown", 
            "metadata": {
                "collapsed": true
            }
        }, 
        {
            "source": "<b> Code to import libraries </b>", 
            "cell_type": "markdown", 
            "metadata": {}
        }, 
        {
            "execution_count": 2, 
            "cell_type": "code", 
            "metadata": {}, 
            "outputs": [
                {
                    "output_type": "stream", 
                    "name": "stdout", 
                    "text": "Libraries imported.\n"
                }
            ], 
            "source": "import numpy as np # library to handle data in a vectorized manner\n\nimport pandas as pd # library for data analsysis\npd.set_option('display.max_columns', None)\npd.set_option('display.max_rows', None)\n\nimport json # library to handle JSON files\n\n#!conda install -c conda-forge geopy --yes # uncomment this line if you haven't completed the Foursquare API lab\nfrom geopy.geocoders import Nominatim # convert an address into latitude and longitude values\n\nimport requests # library to handle requests\nfrom pandas.io.json import json_normalize # tranform JSON file into a pandas dataframe\n\n# Matplotlib and associated plotting modules\nimport matplotlib.cm as cm\nimport matplotlib.colors as colors\n\n# import k-means from clustering stage\nfrom sklearn.cluster import KMeans\n\nprint('Libraries imported.')"
        }, 
        {
            "execution_count": 11, 
            "cell_type": "code", 
            "metadata": {}, 
            "outputs": [], 
            "source": "from bs4 import BeautifulSoup\nimport requests"
        }, 
        {
            "execution_count": 18, 
            "cell_type": "code", 
            "metadata": {}, 
            "outputs": [], 
            "source": "url = \"https://en.wikipedia.org/wiki/List_of_postal_codes_of_Canada:_M\""
        }, 
        {
            "execution_count": 19, 
            "cell_type": "code", 
            "metadata": {}, 
            "outputs": [
                {
                    "execution_count": 19, 
                    "metadata": {}, 
                    "data": {
                        "text/plain": "<Response [200]>"
                    }, 
                    "output_type": "execute_result"
                }
            ], 
            "source": "page = requests.get(url)\npage"
        }, 
        {
            "execution_count": 21, 
            "cell_type": "code", 
            "metadata": {}, 
            "outputs": [], 
            "source": "soup = BeautifulSoup(page.content, 'html.parser')"
        }, 
        {
            "execution_count": 171, 
            "cell_type": "code", 
            "metadata": {}, 
            "outputs": [], 
            "source": "rows = soup.find_all('tr')\nrowlength = len(rows) - 5 #because last few rows are styling"
        }, 
        {
            "execution_count": 166, 
            "cell_type": "code", 
            "metadata": {}, 
            "outputs": [], 
            "source": "### define the dataframe columns\ncolumn_names = ['PostalCode', 'Borough', 'Neighborhood'] \n\n# instantiate the dataframe\nneighborhoods = pd.DataFrame(columns=column_names)"
        }, 
        {
            "execution_count": 167, 
            "cell_type": "code", 
            "metadata": {}, 
            "outputs": [], 
            "source": "for index in range (1, rowlength):\n    PostalCode = rows[index].find_all('td')[0].get_text()\n    Borough = rows[index].find_all('td')[1].get_text()\n    Neighborhood = rows[index].find_all('td')[2].get_text().splitlines()[0]\n    str(Neighborhood)\n    \n    neighborhoods = neighborhoods.append({'PostalCode': PostalCode,\n                                          'Borough': Borough,\n                                          'Neighborhood': Neighborhood}, ignore_index=True)\n\n\n"
        }, 
        {
            "source": "### 3. Cleaning up Data to drop row if borough is not assigned, make neighborhood borough if no neighborhood", 
            "cell_type": "markdown", 
            "metadata": {}
        }, 
        {
            "execution_count": 180, 
            "cell_type": "code", 
            "metadata": {}, 
            "outputs": [], 
            "source": "#Drop Row if Borough is null\nneighborhoods['Borough'] = neighborhoods['Borough'].replace('Not assigned', np.nan)\nneighborhoods = neighborhoods.dropna(axis=0, subset=['Borough'])"
        }, 
        {
            "execution_count": 184, 
            "cell_type": "code", 
            "metadata": {}, 
            "outputs": [
                {
                    "output_type": "stream", 
                    "name": "stderr", 
                    "text": "/opt/conda/envs/DSX-Python35/lib/python3.5/site-packages/ipykernel/__main__.py:2: SettingWithCopyWarning: \nA value is trying to be set on a copy of a slice from a DataFrame.\nTry using .loc[row_indexer,col_indexer] = value instead\n\nSee the caveats in the documentation: http://pandas.pydata.org/pandas-docs/stable/indexing.html#indexing-view-versus-copy\n  from ipykernel import kernelapp as app\n"
                }
            ], 
            "source": "#Change neighborhood to borough if neighborhood = not assigned\nneighborhoods['Neighborhood'] = neighborhoods['Neighborhood'].replace('Not assigned', neighborhoods['Borough'])"
        }, 
        {
            "source": "#### Now I group by PostalCode and Borough and append the neighborhoods together", 
            "cell_type": "markdown", 
            "metadata": {}
        }, 
        {
            "execution_count": 235, 
            "cell_type": "code", 
            "metadata": {}, 
            "outputs": [], 
            "source": "neighborhoods['Neighborhood'] = neighborhoods['Neighborhood'].astype(str)"
        }, 
        {
            "execution_count": 236, 
            "cell_type": "code", 
            "metadata": {}, 
            "outputs": [], 
            "source": "result = neighborhoods.groupby(['PostalCode', 'Borough']).agg(','.join)"
        }, 
        {
            "execution_count": 238, 
            "cell_type": "code", 
            "metadata": {}, 
            "outputs": [
                {
                    "execution_count": 238, 
                    "metadata": {}, 
                    "data": {
                        "text/html": "<div>\n<style scoped>\n    .dataframe tbody tr th:only-of-type {\n        vertical-align: middle;\n    }\n\n    .dataframe tbody tr th {\n        vertical-align: top;\n    }\n\n    .dataframe thead th {\n        text-align: right;\n    }\n</style>\n<table border=\"1\" class=\"dataframe\">\n  <thead>\n    <tr style=\"text-align: right;\">\n      <th></th>\n      <th></th>\n      <th>Neighborhood</th>\n    </tr>\n    <tr>\n      <th>PostalCode</th>\n      <th>Borough</th>\n      <th></th>\n    </tr>\n  </thead>\n  <tbody>\n    <tr>\n      <th>M1B</th>\n      <th>Scarborough</th>\n      <td>Rouge,Malvern</td>\n    </tr>\n    <tr>\n      <th>M1C</th>\n      <th>Scarborough</th>\n      <td>Highland Creek,Rouge Hill,Port Union</td>\n    </tr>\n    <tr>\n      <th>M1E</th>\n      <th>Scarborough</th>\n      <td>Guildwood,Morningside,West Hill</td>\n    </tr>\n    <tr>\n      <th>M1G</th>\n      <th>Scarborough</th>\n      <td>Woburn</td>\n    </tr>\n    <tr>\n      <th>M1H</th>\n      <th>Scarborough</th>\n      <td>Cedarbrae</td>\n    </tr>\n    <tr>\n      <th>M1J</th>\n      <th>Scarborough</th>\n      <td>Scarborough Village</td>\n    </tr>\n    <tr>\n      <th>M1K</th>\n      <th>Scarborough</th>\n      <td>East Birchmount Park,Ionview,Kennedy Park</td>\n    </tr>\n    <tr>\n      <th>M1L</th>\n      <th>Scarborough</th>\n      <td>Clairlea,Golden Mile,Oakridge</td>\n    </tr>\n    <tr>\n      <th>M1M</th>\n      <th>Scarborough</th>\n      <td>Cliffcrest,Cliffside,Scarborough Village West</td>\n    </tr>\n    <tr>\n      <th>M1N</th>\n      <th>Scarborough</th>\n      <td>Birch Cliff,Cliffside West</td>\n    </tr>\n    <tr>\n      <th>M1P</th>\n      <th>Scarborough</th>\n      <td>Dorset Park,Scarborough Town Centre,Wexford He...</td>\n    </tr>\n    <tr>\n      <th>M1R</th>\n      <th>Scarborough</th>\n      <td>Maryvale,Wexford</td>\n    </tr>\n    <tr>\n      <th>M1S</th>\n      <th>Scarborough</th>\n      <td>Agincourt</td>\n    </tr>\n    <tr>\n      <th>M1T</th>\n      <th>Scarborough</th>\n      <td>Clarks Corners,Sullivan,Tam O'Shanter</td>\n    </tr>\n    <tr>\n      <th>M1V</th>\n      <th>Scarborough</th>\n      <td>Agincourt North,L'Amoreaux East,Milliken,Steel...</td>\n    </tr>\n    <tr>\n      <th>M1W</th>\n      <th>Scarborough</th>\n      <td>L'Amoreaux West</td>\n    </tr>\n    <tr>\n      <th>M1X</th>\n      <th>Scarborough</th>\n      <td>Upper Rouge</td>\n    </tr>\n    <tr>\n      <th>M2H</th>\n      <th>North York</th>\n      <td>Hillcrest Village</td>\n    </tr>\n    <tr>\n      <th>M2J</th>\n      <th>North York</th>\n      <td>Fairview,Henry Farm,Oriole</td>\n    </tr>\n    <tr>\n      <th>M2K</th>\n      <th>North York</th>\n      <td>Bayview Village</td>\n    </tr>\n    <tr>\n      <th>M2L</th>\n      <th>North York</th>\n      <td>Silver Hills,York Mills</td>\n    </tr>\n    <tr>\n      <th>M2M</th>\n      <th>North York</th>\n      <td>Newtonbrook,Willowdale</td>\n    </tr>\n    <tr>\n      <th>M2N</th>\n      <th>North York</th>\n      <td>Willowdale South</td>\n    </tr>\n    <tr>\n      <th>M2P</th>\n      <th>North York</th>\n      <td>York Mills West</td>\n    </tr>\n    <tr>\n      <th>M2R</th>\n      <th>North York</th>\n      <td>Willowdale West</td>\n    </tr>\n    <tr>\n      <th>M3A</th>\n      <th>North York</th>\n      <td>Parkwoods</td>\n    </tr>\n    <tr>\n      <th>M3B</th>\n      <th>North York</th>\n      <td>Don Mills North</td>\n    </tr>\n    <tr>\n      <th>M3C</th>\n      <th>North York</th>\n      <td>Flemingdon Park,Don Mills South</td>\n    </tr>\n    <tr>\n      <th>M3H</th>\n      <th>North York</th>\n      <td>Bathurst Manor,Downsview North,Wilson Heights</td>\n    </tr>\n    <tr>\n      <th>M3J</th>\n      <th>North York</th>\n      <td>Northwood Park,York University</td>\n    </tr>\n    <tr>\n      <th>M3K</th>\n      <th>North York</th>\n      <td>CFB Toronto,Downsview East</td>\n    </tr>\n    <tr>\n      <th>M3L</th>\n      <th>North York</th>\n      <td>Downsview West</td>\n    </tr>\n    <tr>\n      <th>M3M</th>\n      <th>North York</th>\n      <td>Downsview Central</td>\n    </tr>\n    <tr>\n      <th>M3N</th>\n      <th>North York</th>\n      <td>Downsview Northwest</td>\n    </tr>\n    <tr>\n      <th>M4A</th>\n      <th>North York</th>\n      <td>Victoria Village</td>\n    </tr>\n    <tr>\n      <th>M4B</th>\n      <th>East York</th>\n      <td>Woodbine Gardens,Parkview Hill</td>\n    </tr>\n    <tr>\n      <th>M4C</th>\n      <th>East York</th>\n      <td>Woodbine Heights</td>\n    </tr>\n    <tr>\n      <th>M4E</th>\n      <th>East Toronto</th>\n      <td>The Beaches</td>\n    </tr>\n    <tr>\n      <th>M4G</th>\n      <th>East York</th>\n      <td>Leaside</td>\n    </tr>\n    <tr>\n      <th>M4H</th>\n      <th>East York</th>\n      <td>Thorncliffe Park</td>\n    </tr>\n    <tr>\n      <th>M4J</th>\n      <th>East York</th>\n      <td>East Toronto</td>\n    </tr>\n    <tr>\n      <th>M4K</th>\n      <th>East Toronto</th>\n      <td>The Danforth West,Riverdale</td>\n    </tr>\n    <tr>\n      <th>M4L</th>\n      <th>East Toronto</th>\n      <td>The Beaches West,India Bazaar</td>\n    </tr>\n    <tr>\n      <th>M4M</th>\n      <th>East Toronto</th>\n      <td>Studio District</td>\n    </tr>\n    <tr>\n      <th>M4N</th>\n      <th>Central Toronto</th>\n      <td>Lawrence Park</td>\n    </tr>\n    <tr>\n      <th>M4P</th>\n      <th>Central Toronto</th>\n      <td>Davisville North</td>\n    </tr>\n    <tr>\n      <th>M4R</th>\n      <th>Central Toronto</th>\n      <td>North Toronto West</td>\n    </tr>\n    <tr>\n      <th>M4S</th>\n      <th>Central Toronto</th>\n      <td>Davisville</td>\n    </tr>\n    <tr>\n      <th>M4T</th>\n      <th>Central Toronto</th>\n      <td>Moore Park,Summerhill East</td>\n    </tr>\n    <tr>\n      <th>M4V</th>\n      <th>Central Toronto</th>\n      <td>Deer Park,Forest Hill SE,Rathnelly,South Hill,...</td>\n    </tr>\n    <tr>\n      <th>M4W</th>\n      <th>Downtown Toronto</th>\n      <td>Rosedale</td>\n    </tr>\n    <tr>\n      <th>M4X</th>\n      <th>Downtown Toronto</th>\n      <td>Cabbagetown,St. James Town</td>\n    </tr>\n    <tr>\n      <th>M4Y</th>\n      <th>Downtown Toronto</th>\n      <td>Church and Wellesley</td>\n    </tr>\n    <tr>\n      <th>M5A</th>\n      <th>Downtown Toronto</th>\n      <td>Harbourfront,Regent Park</td>\n    </tr>\n    <tr>\n      <th>M5B</th>\n      <th>Downtown Toronto</th>\n      <td>Ryerson,Garden District</td>\n    </tr>\n    <tr>\n      <th>M5C</th>\n      <th>Downtown Toronto</th>\n      <td>St. James Town</td>\n    </tr>\n    <tr>\n      <th>M5E</th>\n      <th>Downtown Toronto</th>\n      <td>Berczy Park</td>\n    </tr>\n    <tr>\n      <th>M5G</th>\n      <th>Downtown Toronto</th>\n      <td>Central Bay Street</td>\n    </tr>\n    <tr>\n      <th>M5H</th>\n      <th>Downtown Toronto</th>\n      <td>Adelaide,King,Richmond</td>\n    </tr>\n    <tr>\n      <th>M5J</th>\n      <th>Downtown Toronto</th>\n      <td>Harbourfront East,Toronto Islands,Union Station</td>\n    </tr>\n    <tr>\n      <th>M5K</th>\n      <th>Downtown Toronto</th>\n      <td>Design Exchange,Toronto Dominion Centre</td>\n    </tr>\n    <tr>\n      <th>M5L</th>\n      <th>Downtown Toronto</th>\n      <td>Commerce Court,Victoria Hotel</td>\n    </tr>\n    <tr>\n      <th>M5M</th>\n      <th>North York</th>\n      <td>Bedford Park,Lawrence Manor East</td>\n    </tr>\n    <tr>\n      <th>M5N</th>\n      <th>Central Toronto</th>\n      <td>Roselawn</td>\n    </tr>\n    <tr>\n      <th>M5P</th>\n      <th>Central Toronto</th>\n      <td>Forest Hill North,Forest Hill West</td>\n    </tr>\n    <tr>\n      <th>M5R</th>\n      <th>Central Toronto</th>\n      <td>The Annex,North Midtown,Yorkville</td>\n    </tr>\n    <tr>\n      <th>M5S</th>\n      <th>Downtown Toronto</th>\n      <td>Harbord,University of Toronto</td>\n    </tr>\n    <tr>\n      <th>M5T</th>\n      <th>Downtown Toronto</th>\n      <td>Chinatown,Grange Park,Kensington Market</td>\n    </tr>\n    <tr>\n      <th>M5V</th>\n      <th>Downtown Toronto</th>\n      <td>CN Tower,Bathurst Quay,Island airport,Harbourf...</td>\n    </tr>\n    <tr>\n      <th>M5W</th>\n      <th>Downtown Toronto</th>\n      <td>Stn A PO Boxes 25 The Esplanade</td>\n    </tr>\n    <tr>\n      <th>M5X</th>\n      <th>Downtown Toronto</th>\n      <td>First Canadian Place,Underground city</td>\n    </tr>\n    <tr>\n      <th>M6A</th>\n      <th>North York</th>\n      <td>Lawrence Heights,Lawrence Manor</td>\n    </tr>\n    <tr>\n      <th>M6B</th>\n      <th>North York</th>\n      <td>Glencairn</td>\n    </tr>\n    <tr>\n      <th>M6C</th>\n      <th>York</th>\n      <td>Humewood-Cedarvale</td>\n    </tr>\n    <tr>\n      <th>M6E</th>\n      <th>York</th>\n      <td>Caledonia-Fairbanks</td>\n    </tr>\n    <tr>\n      <th>M6G</th>\n      <th>Downtown Toronto</th>\n      <td>Christie</td>\n    </tr>\n    <tr>\n      <th>M6H</th>\n      <th>West Toronto</th>\n      <td>Dovercourt Village,Dufferin</td>\n    </tr>\n    <tr>\n      <th>M6J</th>\n      <th>West Toronto</th>\n      <td>Little Portugal,Trinity</td>\n    </tr>\n    <tr>\n      <th>M6K</th>\n      <th>West Toronto</th>\n      <td>Brockton,Exhibition Place,Parkdale Village</td>\n    </tr>\n    <tr>\n      <th>M6L</th>\n      <th>North York</th>\n      <td>Downsview,North Park,Upwood Park</td>\n    </tr>\n    <tr>\n      <th>M6M</th>\n      <th>York</th>\n      <td>Del Ray,Keelesdale,Mount Dennis,Silverthorn</td>\n    </tr>\n    <tr>\n      <th>M6N</th>\n      <th>York</th>\n      <td>The Junction North,Runnymede</td>\n    </tr>\n    <tr>\n      <th>M6P</th>\n      <th>West Toronto</th>\n      <td>High Park,The Junction South</td>\n    </tr>\n    <tr>\n      <th>M6R</th>\n      <th>West Toronto</th>\n      <td>Parkdale,Roncesvalles</td>\n    </tr>\n    <tr>\n      <th>M6S</th>\n      <th>West Toronto</th>\n      <td>Runnymede,Swansea</td>\n    </tr>\n    <tr>\n      <th>M7A</th>\n      <th>Queen's Park</th>\n      <td>Queen's Park</td>\n    </tr>\n    <tr>\n      <th>M7R</th>\n      <th>Mississauga</th>\n      <td>Canada Post Gateway Processing Centre</td>\n    </tr>\n    <tr>\n      <th>M7Y</th>\n      <th>East Toronto</th>\n      <td>Business Reply Mail Processing Centre 969 Eastern</td>\n    </tr>\n    <tr>\n      <th>M8V</th>\n      <th>Etobicoke</th>\n      <td>Humber Bay Shores,Mimico South,New Toronto</td>\n    </tr>\n    <tr>\n      <th>M8W</th>\n      <th>Etobicoke</th>\n      <td>Alderwood,Long Branch</td>\n    </tr>\n    <tr>\n      <th>M8X</th>\n      <th>Etobicoke</th>\n      <td>The Kingsway,Montgomery Road,Old Mill North</td>\n    </tr>\n    <tr>\n      <th>M8Y</th>\n      <th>Etobicoke</th>\n      <td>Humber Bay,King's Mill Park,Kingsway Park Sout...</td>\n    </tr>\n    <tr>\n      <th>M8Z</th>\n      <th>Etobicoke</th>\n      <td>Kingsway Park South West,Mimico NW,The Queensw...</td>\n    </tr>\n    <tr>\n      <th>M9A</th>\n      <th>Etobicoke</th>\n      <td>Islington Avenue</td>\n    </tr>\n    <tr>\n      <th>M9B</th>\n      <th>Etobicoke</th>\n      <td>Cloverdale,Islington,Martin Grove,Princess Gar...</td>\n    </tr>\n    <tr>\n      <th>M9C</th>\n      <th>Etobicoke</th>\n      <td>Bloordale Gardens,Eringate,Markland Wood,Old B...</td>\n    </tr>\n    <tr>\n      <th>M9L</th>\n      <th>North York</th>\n      <td>Humber Summit</td>\n    </tr>\n    <tr>\n      <th>M9M</th>\n      <th>North York</th>\n      <td>Emery,Humberlea</td>\n    </tr>\n    <tr>\n      <th>M9N</th>\n      <th>York</th>\n      <td>Weston</td>\n    </tr>\n    <tr>\n      <th>M9P</th>\n      <th>Etobicoke</th>\n      <td>Westmount</td>\n    </tr>\n    <tr>\n      <th>M9R</th>\n      <th>Etobicoke</th>\n      <td>Kingsview Village,Martin Grove Gardens,Richvie...</td>\n    </tr>\n    <tr>\n      <th>M9V</th>\n      <th>Etobicoke</th>\n      <td>Albion Gardens,Beaumond Heights,Humbergate,Jam...</td>\n    </tr>\n    <tr>\n      <th>M9W</th>\n      <th>Etobicoke</th>\n      <td>Northwest</td>\n    </tr>\n  </tbody>\n</table>\n</div>", 
                        "text/plain": "                                                                  Neighborhood\nPostalCode Borough                                                            \nM1B        Scarborough                                           Rouge,Malvern\nM1C        Scarborough                    Highland Creek,Rouge Hill,Port Union\nM1E        Scarborough                         Guildwood,Morningside,West Hill\nM1G        Scarborough                                                  Woburn\nM1H        Scarborough                                               Cedarbrae\nM1J        Scarborough                                     Scarborough Village\nM1K        Scarborough               East Birchmount Park,Ionview,Kennedy Park\nM1L        Scarborough                           Clairlea,Golden Mile,Oakridge\nM1M        Scarborough           Cliffcrest,Cliffside,Scarborough Village West\nM1N        Scarborough                              Birch Cliff,Cliffside West\nM1P        Scarborough       Dorset Park,Scarborough Town Centre,Wexford He...\nM1R        Scarborough                                        Maryvale,Wexford\nM1S        Scarborough                                               Agincourt\nM1T        Scarborough                   Clarks Corners,Sullivan,Tam O'Shanter\nM1V        Scarborough       Agincourt North,L'Amoreaux East,Milliken,Steel...\nM1W        Scarborough                                         L'Amoreaux West\nM1X        Scarborough                                             Upper Rouge\nM2H        North York                                        Hillcrest Village\nM2J        North York                               Fairview,Henry Farm,Oriole\nM2K        North York                                          Bayview Village\nM2L        North York                                  Silver Hills,York Mills\nM2M        North York                                   Newtonbrook,Willowdale\nM2N        North York                                         Willowdale South\nM2P        North York                                          York Mills West\nM2R        North York                                          Willowdale West\nM3A        North York                                                Parkwoods\nM3B        North York                                          Don Mills North\nM3C        North York                          Flemingdon Park,Don Mills South\nM3H        North York            Bathurst Manor,Downsview North,Wilson Heights\nM3J        North York                           Northwood Park,York University\nM3K        North York                               CFB Toronto,Downsview East\nM3L        North York                                           Downsview West\nM3M        North York                                        Downsview Central\nM3N        North York                                      Downsview Northwest\nM4A        North York                                         Victoria Village\nM4B        East York                            Woodbine Gardens,Parkview Hill\nM4C        East York                                          Woodbine Heights\nM4E        East Toronto                                            The Beaches\nM4G        East York                                                   Leaside\nM4H        East York                                          Thorncliffe Park\nM4J        East York                                              East Toronto\nM4K        East Toronto                            The Danforth West,Riverdale\nM4L        East Toronto                          The Beaches West,India Bazaar\nM4M        East Toronto                                        Studio District\nM4N        Central Toronto                                       Lawrence Park\nM4P        Central Toronto                                    Davisville North\nM4R        Central Toronto                                  North Toronto West\nM4S        Central Toronto                                          Davisville\nM4T        Central Toronto                          Moore Park,Summerhill East\nM4V        Central Toronto   Deer Park,Forest Hill SE,Rathnelly,South Hill,...\nM4W        Downtown Toronto                                           Rosedale\nM4X        Downtown Toronto                         Cabbagetown,St. James Town\nM4Y        Downtown Toronto                               Church and Wellesley\nM5A        Downtown Toronto                           Harbourfront,Regent Park\nM5B        Downtown Toronto                            Ryerson,Garden District\nM5C        Downtown Toronto                                     St. James Town\nM5E        Downtown Toronto                                        Berczy Park\nM5G        Downtown Toronto                                 Central Bay Street\nM5H        Downtown Toronto                             Adelaide,King,Richmond\nM5J        Downtown Toronto    Harbourfront East,Toronto Islands,Union Station\nM5K        Downtown Toronto            Design Exchange,Toronto Dominion Centre\nM5L        Downtown Toronto                      Commerce Court,Victoria Hotel\nM5M        North York                         Bedford Park,Lawrence Manor East\nM5N        Central Toronto                                            Roselawn\nM5P        Central Toronto                  Forest Hill North,Forest Hill West\nM5R        Central Toronto                   The Annex,North Midtown,Yorkville\nM5S        Downtown Toronto                      Harbord,University of Toronto\nM5T        Downtown Toronto            Chinatown,Grange Park,Kensington Market\nM5V        Downtown Toronto  CN Tower,Bathurst Quay,Island airport,Harbourf...\nM5W        Downtown Toronto                    Stn A PO Boxes 25 The Esplanade\nM5X        Downtown Toronto              First Canadian Place,Underground city\nM6A        North York                          Lawrence Heights,Lawrence Manor\nM6B        North York                                                Glencairn\nM6C        York                                             Humewood-Cedarvale\nM6E        York                                            Caledonia-Fairbanks\nM6G        Downtown Toronto                                           Christie\nM6H        West Toronto                            Dovercourt Village,Dufferin\nM6J        West Toronto                                Little Portugal,Trinity\nM6K        West Toronto             Brockton,Exhibition Place,Parkdale Village\nM6L        North York                         Downsview,North Park,Upwood Park\nM6M        York                    Del Ray,Keelesdale,Mount Dennis,Silverthorn\nM6N        York                                   The Junction North,Runnymede\nM6P        West Toronto                           High Park,The Junction South\nM6R        West Toronto                                  Parkdale,Roncesvalles\nM6S        West Toronto                                      Runnymede,Swansea\nM7A        Queen's Park                                           Queen's Park\nM7R        Mississauga                   Canada Post Gateway Processing Centre\nM7Y        East Toronto      Business Reply Mail Processing Centre 969 Eastern\nM8V        Etobicoke                Humber Bay Shores,Mimico South,New Toronto\nM8W        Etobicoke                                     Alderwood,Long Branch\nM8X        Etobicoke               The Kingsway,Montgomery Road,Old Mill North\nM8Y        Etobicoke         Humber Bay,King's Mill Park,Kingsway Park Sout...\nM8Z        Etobicoke         Kingsway Park South West,Mimico NW,The Queensw...\nM9A        Etobicoke                                          Islington Avenue\nM9B        Etobicoke         Cloverdale,Islington,Martin Grove,Princess Gar...\nM9C        Etobicoke         Bloordale Gardens,Eringate,Markland Wood,Old B...\nM9L        North York                                            Humber Summit\nM9M        North York                                          Emery,Humberlea\nM9N        York                                                         Weston\nM9P        Etobicoke                                                 Westmount\nM9R        Etobicoke         Kingsview Village,Martin Grove Gardens,Richvie...\nM9V        Etobicoke         Albion Gardens,Beaumond Heights,Humbergate,Jam...\nM9W        Etobicoke                                                 Northwest"
                    }, 
                    "output_type": "execute_result"
                }
            ], 
            "source": "result"
        }, 
        {
            "execution_count": 239, 
            "cell_type": "code", 
            "metadata": {}, 
            "outputs": [
                {
                    "execution_count": 239, 
                    "metadata": {}, 
                    "data": {
                        "text/plain": "(103, 1)"
                    }, 
                    "output_type": "execute_result"
                }
            ], 
            "source": "result.shape"
        }, 
        {
            "execution_count": null, 
            "cell_type": "code", 
            "metadata": {}, 
            "outputs": [], 
            "source": ""
        }
    ], 
    "metadata": {
        "kernelspec": {
            "display_name": "Python 3.5", 
            "name": "python3", 
            "language": "python"
        }, 
        "language_info": {
            "mimetype": "text/x-python", 
            "nbconvert_exporter": "python", 
            "version": "3.5.5", 
            "name": "python", 
            "file_extension": ".py", 
            "pygments_lexer": "ipython3", 
            "codemirror_mode": {
                "version": 3, 
                "name": "ipython"
            }
        }
    }, 
    "nbformat": 4
}