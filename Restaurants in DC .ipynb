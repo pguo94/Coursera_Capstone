{
    "nbformat_minor": 1, 
    "cells": [
        {
            "source": "# <center> Best Neighborhoods to Open a Business in DC </center>", 
            "cell_type": "markdown", 
            "metadata": {
                "collapsed": true
            }
        }, 
        {
            "source": "## <center> Peter Guo </center>", 
            "cell_type": "markdown", 
            "metadata": {}
        }, 
        {
            "source": "<center> 19 June 2019 </center>", 
            "cell_type": "markdown", 
            "metadata": {}
        }, 
        {
            "source": "### 1. Introduction\n\n#### 1.1 Background\nWashington DC has always been one of the busiest places in the United States. With two major airports less than an hour away from each other, tens of thousands of people come and go every day. The Nation's Capital is filled with people all over the country to see the best sites. For business owners, this can be seen as an easy win- if they know where to put their business. In order to maximize their revenue, these owners must pick the best place in the city to build. In order to ensure revenue they have to consider many factors: type of business, closest landmark, accessibility, crime rates, competitors nearby. \n\n#### 1.2 Problem\nData to help determine the best place to start the business is to take in account for the factors that are stated above. The Crime rate data is provided by opendata.dc.gov and the other information about restaurants and wards will be from foursquare. With the data aggregated from open source databases, we will be able to predict the best place to put the business to maximize revenue.", 
            "cell_type": "markdown", 
            "metadata": {}
        }, 
        {
            "execution_count": null, 
            "cell_type": "code", 
            "metadata": {}, 
            "outputs": [], 
            "source": ""
        }
    ], 
    "metadata": {
        "kernelspec": {
            "display_name": "Python 3.5", 
            "name": "python3", 
            "language": "python"
        }, 
        "language_info": {
            "mimetype": "text/x-python", 
            "nbconvert_exporter": "python", 
            "version": "3.5.5", 
            "name": "python", 
            "file_extension": ".py", 
            "pygments_lexer": "ipython3", 
            "codemirror_mode": {
                "version": 3, 
                "name": "ipython"
            }
        }
    }, 
    "nbformat": 4
}