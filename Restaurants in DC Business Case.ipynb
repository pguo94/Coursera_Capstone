{
    "nbformat_minor": 1, 
    "cells": [
        {
            "source": "# <center> Best Neighborhoods to Open a Restaurant in DC </center>", 
            "cell_type": "markdown", 
            "metadata": {
                "collapsed": true
            }
        }, 
        {
            "source": "## <center> Peter Guo </center>", 
            "cell_type": "markdown", 
            "metadata": {}
        }, 
        {
            "source": "<center> 30 June 2019 </center>\n\n\n[Link to Code](https://github.com/pguo94/Coursera_Capstone/blob/master/Opening%20Chinese%20Restaurant%20in%20DC.ipynb)\n\n\n[Link to Notebook for folium maps](https://dataplatform.cloud.ibm.com/analytics/notebooks/v2/1f933057-08f1-4464-b4fe-115a1b9c3c01?projectid=8c491a9b-0318-4e06-a590-fbd42756fbe8&projectTitle=Coursera_Capstone&context=wdp)", 
            "cell_type": "markdown", 
            "metadata": {}
        }, 
        {
            "source": "### 1. Introduction\n\n#### 1.1 Background\nWashington DC has always been one of the busiest places in the United States. With two major airports less than an hour away from each other, tens of thousands of people come and go every day. The Nation's Capital is filled with people all over the country to see the best sites. For business owners, this can be seen as an easy win- if they know where to put their restaurant. In order to maximize their revenue, these owners must pick the best place in the city to build. Many factors are taken in account when they make the decision on location: type of restaurant, closest landmark, accessibility, crime rates, competitors nearby. The decision to open up a restaurant in DC can cost up to a couple hundred thousand dollars, so making the best educated decision will help owners achieve their goals. With this Capstone, we will be examining the factors that affect restaurants and help owners decide the best place to start their business.\n\n#### 1.2 Problem\nData to help determine the best place to start the restaurant is to take in account for the factors that are stated above. The Crime rate data is provided by opendata.dc.gov and the other information about restaurants and wards will be from foursquare. The crime rate data is split up into wards, where we can display on a map to show the crime rate density. With this data, we will then be able to incorporate the data from foursquare and examine restaurants nearby and their reviews. With the data aggregated from open source databases, we will be able to predict the best place to put the business to maximize revenue.\n\n#### 1.3 Interest\nAs someone who is born a foodie and has every aspiration to open up a restaurant down the road this topic was an easy pick for me. I think it's important to consider multiple factors when making a decision to open up a restaurant. Even just considering outside factors (location, proximity to other restaurants, nearby competitors, etc...) you will be able to forecast how well your businesness will do even before opening it up to the public.", 
            "cell_type": "markdown", 
            "metadata": {}
        }, 
        {
            "source": "### 2. Data acquisition and cleaning\n\n#### 2.1 Data Sources\nThe data I examined was provided from Foursquare, open source data from dc.gov. I was able to grab an updated 2019 crime data from [here](http://opendata.dc.gov/datasets/crime-incidents-in-2019). I then combined this data with the geojson from [dc wards](http://data.codefordc.org/dataset/dc-wards-map-overlay/resource/8ca2fd50-06cc-497f-89f9-a7937ff3650d?inner_span=True) to show the crime rates broken down in specific wards in DC. After examining the crime rates, I utilized the data from Foursquare queries to help provide supplemental information about the areas of interest.\n\n#### 2.2 Data Cleaning\nFor the crime data that was provided by dc.gov, I just omitted certain columns that were not relevant to the necessary data. I was able to narrow down the data to the columns shown in my notebook and then grouped it within the individual wards of DC in order to display it on a choropleth.\n    After displaying that data, I started to utilize Foursquare and their queries to find businesses within the area of DC. Since this was a self project, the data we were provided from these queries were quite limited. The data that was returned was in JSON as well, so I had to scrape the return data for just the name, location, category and postal code. Cleaning and preparing the data was more straightforward than dealing with some query responses. Foursquare utilizes a string search when searching for categories of businesses. For example, when I first approached my problem, I tried to search up just Chinese restaurants and the query would provide me with all \"Chinese businesses\" like the embassy and performing centers. I had to approach the problem in another way by using another Foursquare query via venues and then clean up that data after to suit my needs.", 
            "cell_type": "markdown", 
            "metadata": {}
        }, 
        {
            "source": "### Methodology\n\nIn this section I will be explaining step by step of what I did to acheive my goal in figuring out where the best place is to put a restaurant. For this proof of concept, I have chosen a Chinese restaurant for my potential business.\n\n#### 3.1 Crime Rate Data\n\nThis was the first step in the data analysis. I wanted to incorporate this in the data analysis because I wanted to see the relationship between crime and businesses. After cleaning the data and grouping it by ward, it showed that ward two (the national mall) had the highest amount of crimes of 2998, shortly followed by capitol hill of 2338 crimes. This data did not come as a surprise to me as I knew that crimes were going to be high in these areas due to the amount of tourism there every day of the year. Tourism is good in the fact that there will always be an influx of individuals there, staying short term and most likely needing a place to eat.\n\n#### 3.2 Foursquare Venues in DC\n\nI decided to gather all the venues within the radius of DC starting in the center. I kept the limit to 300 venues to ensure our dataset had enough venues to work with and not too cluttered with small venues. The return I received had a plethora of different businesses (parks, hotels, grocery stores, restaurants etc..). I had to clean the data and then was able to display it on a choropleth map as seen on the notebook. When it was displayed, it was immediately apparent that the majority of these venues were downtown (ward 2) by the national mall. It coincided with my observation that tourism brings crimes, but attracts a lot of good business.\n\n#### 3.3 K-Means Clustering on businesses\n\nUtilizing K-Means Clustering allowed me to visualize the density of certain businesses in areas around DC. Using this recursive method, I wanted to break each individual dataset provided by Foursquare by zip code and type of business. In doing so, I was able to figure out the regions that not only had a high amount of businesses, but also for me to see which areas had a high influx in Asian restaurants for potential competition. I ended up doing a 10 K-Means cluster on the dataset, because DC has so many small concentrations of businesses between residential areas it was easier to visualize.", 
            "cell_type": "markdown", 
            "metadata": {}
        }, 
        {
            "source": "### Results & Discussion\n\n#### 3.1 Relationship of Crime Rate to Venue Density in DC\n\nSeeing how the highest amount of crime was directly related to the amount of tourism, it makes the most sense that most of the businesses are in those areas. When I queried the venues in DC, the majority of them were located in ward 2, including a lot of hotels. Hotels are good for our potential business because the majority of these people will need to go out to get a meal to eat and will most likely venture to the areas around the hotel to get a bite to eat. Around those hotels were a bunch of other businesses, so I wanted to run a K-means clustering on those businesses to see specifically where these businesses and what businesses were specifically centered in these areas of interest.\n\n#### 3.2 K-Means Clustering Result\n\nAfter seeing the result of the K-Means cluster, the area around McPhearson square, cluster 7 seemed intriguing. As I hypothesized before, there is a high amount of businesses in that cluster, specifically area code 20005, 20006, 20007. The amount of hotels in each of those area codes is 23%, 29% and 33% respectively. That's a lot of hotels! This area is a great area to start a business.\n\n#### 3.3 Foursquare search of Asian restaurants\n\nI was able to get the latitude and longitude of the area code that encompassed the general area of these hotels. Using these coordinates, I ran another foursquare query to receive 100 of the businesses in the area to do a more indepth analysis, specifically on asian restaurants in the area. Out of 100 businesses in the area, there was only one restaurant that was categorized as \"asian food\" which was Momofuku. The restaurant was rated at 7.5/10 so that means the restaurant is doing pretty good for business in a high density area! With no competition, building a chinese restaurant in this area would be the most ideal place to maximize profits.", 
            "cell_type": "markdown", 
            "metadata": {}
        }, 
        {
            "source": "### Conclusion\n\nNot only does this methodology work for Chinese restaurants, but for any business. By understanding the external factors that affect a business and leveraging the open source data online, it was pretty straight forward to figure out where to start this business. Utilizing data science to visualize the data is the future in making decisions based off numbers and trends, not by feeling. This concludes my research and I hope you enjoyed it!", 
            "cell_type": "markdown", 
            "metadata": {}
        }, 
        {
            "execution_count": null, 
            "cell_type": "code", 
            "metadata": {}, 
            "outputs": [], 
            "source": ""
        }
    ], 
    "metadata": {
        "kernelspec": {
            "display_name": "Python 3.5", 
            "name": "python3", 
            "language": "python"
        }, 
        "language_info": {
            "mimetype": "text/x-python", 
            "nbconvert_exporter": "python", 
            "version": "3.5.5", 
            "name": "python", 
            "file_extension": ".py", 
            "pygments_lexer": "ipython3", 
            "codemirror_mode": {
                "version": 3, 
                "name": "ipython"
            }
        }
    }, 
    "nbformat": 4
}