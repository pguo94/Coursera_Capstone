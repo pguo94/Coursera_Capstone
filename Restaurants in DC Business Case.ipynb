{
    "nbformat_minor": 1, 
    "cells": [
        {
            "source": "# <center> Best Neighborhoods to Open a Restaurant in DC </center>", 
            "cell_type": "markdown", 
            "metadata": {
                "collapsed": true
            }
        }, 
        {
            "source": "## <center> Peter Guo </center>", 
            "cell_type": "markdown", 
            "metadata": {}
        }, 
        {
            "source": "<center> 19 June 2019 </center>", 
            "cell_type": "markdown", 
            "metadata": {}
        }, 
        {
            "source": "### 1. Introduction\n\n#### 1.1 Background\nWashington DC has always been one of the busiest places in the United States. With two major airports less than an hour away from each other, tens of thousands of people come and go every day. The Nation's Capital is filled with people all over the country to see the best sites. For business owners, this can be seen as an easy win- if they know where to put their restaurant. In order to maximize their revenue, these owners must pick the best place in the city to build. Many factors are taken in account when they make the decision on location: type of restaurant, closest landmark, accessibility, crime rates, competitors nearby. The decision to open up a restaurant in DC can cost up to a couple hundred thousand dollars, so making the best educated decision will help owners achieve their goals. With this Capstone, we will be examining the factors that affect restaurants and help owners decide the best place to start their business.\n\n#### 1.2 Problem\nData to help determine the best place to start the restaurant is to take in account for the factors that are stated above. The Crime rate data is provided by opendata.dc.gov and the other information about restaurants and wards will be from foursquare. The crime rate data is split up into wards, where we can display on a map to show the crime rate density. With this data, we will then be able to incorporate the data from foursquare and examine restaurants nearby and their reviews. With the data aggregated from open source databases, we will be able to predict the best place to put the business to maximize revenue.", 
            "cell_type": "markdown", 
            "metadata": {}
        }, 
        {
            "execution_count": null, 
            "cell_type": "code", 
            "metadata": {}, 
            "outputs": [], 
            "source": ""
        }
    ], 
    "metadata": {
        "kernelspec": {
            "display_name": "Python 3.5", 
            "name": "python3", 
            "language": "python"
        }, 
        "language_info": {
            "mimetype": "text/x-python", 
            "nbconvert_exporter": "python", 
            "version": "3.5.5", 
            "name": "python", 
            "file_extension": ".py", 
            "pygments_lexer": "ipython3", 
            "codemirror_mode": {
                "version": 3, 
                "name": "ipython"
            }
        }
    }, 
    "nbformat": 4
}